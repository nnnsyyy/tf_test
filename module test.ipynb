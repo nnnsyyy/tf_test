{
 "cells": [
  {
   "cell_type": "markdown",
   "metadata": {},
   "source": [
    "# Module import \n",
    "- Necessary libraries\n",
    "- Tested code\n",
    "- Rename or import function/class"
   ]
  },
  {
   "cell_type": "code",
   "execution_count": 1,
   "metadata": {},
   "outputs": [
    {
     "name": "stderr",
     "output_type": "stream",
     "text": [
      "/home/shiyue/anaconda3/lib/python3.6/site-packages/h5py/__init__.py:36: FutureWarning: Conversion of the second argument of issubdtype from `float` to `np.floating` is deprecated. In future, it will be treated as `np.float64 == np.dtype(float).type`.\n",
      "  from ._conv import register_converters as _register_converters\n"
     ]
    }
   ],
   "source": [
    "import pandas as pd\n",
    "import numpy as np\n",
    "import tensorflow_test as tf_test\n",
    "from tensorflow_test import utils\n",
    "# import tensorflow_test"
   ]
  },
  {
   "cell_type": "code",
   "execution_count": 2,
   "metadata": {},
   "outputs": [
    {
     "data": {
      "text/plain": [
       "384"
      ]
     },
     "execution_count": 2,
     "metadata": {},
     "output_type": "execute_result"
    }
   ],
   "source": [
    "base_func = utils.bs.Base()\n",
    "base_func.length"
   ]
  },
  {
   "cell_type": "code",
   "execution_count": 3,
   "metadata": {
    "scrolled": true
   },
   "outputs": [
    {
     "name": "stdout",
     "output_type": "stream",
     "text": [
      "INFO:tensorflow:Using default config.\n",
      "WARNING:tensorflow:Using temporary folder as model directory: /tmp/tmpe3l9hwvm\n",
      "INFO:tensorflow:Using config: {'_model_dir': '/tmp/tmpe3l9hwvm', '_tf_random_seed': None, '_save_summary_steps': 100, '_save_checkpoints_steps': None, '_save_checkpoints_secs': 600, '_session_config': None, '_keep_checkpoint_max': 5, '_keep_checkpoint_every_n_hours': 10000, '_log_step_count_steps': 100, '_service': None, '_cluster_spec': <tensorflow.python.training.server_lib.ClusterSpec object at 0x7fc80c73f5c0>, '_task_type': 'worker', '_task_id': 0, '_global_id_in_cluster': 0, '_master': '', '_evaluation_master': '', '_is_chief': True, '_num_ps_replicas': 0, '_num_worker_replicas': 1}\n",
      "INFO:tensorflow:Calling model_fn.\n",
      "INFO:tensorflow:Done calling model_fn.\n",
      "INFO:tensorflow:Create CheckpointSaverHook.\n",
      "INFO:tensorflow:Graph was finalized.\n",
      "INFO:tensorflow:Running local_init_op.\n",
      "INFO:tensorflow:Done running local_init_op.\n",
      "INFO:tensorflow:Saving checkpoints for 1 into /tmp/tmpe3l9hwvm/model.ckpt.\n",
      "INFO:tensorflow:loss = 16.748539, step = 1\n",
      "INFO:tensorflow:global_step/sec: 212.404\n",
      "INFO:tensorflow:loss = 2.6084561, step = 101 (0.482 sec)\n",
      "INFO:tensorflow:global_step/sec: 324.914\n",
      "INFO:tensorflow:loss = 0.9421019, step = 201 (0.306 sec)\n",
      "INFO:tensorflow:global_step/sec: 402.097\n",
      "INFO:tensorflow:loss = 1.2618165, step = 301 (0.252 sec)\n",
      "INFO:tensorflow:global_step/sec: 383.03\n",
      "INFO:tensorflow:loss = 0.30518812, step = 401 (0.256 sec)\n",
      "INFO:tensorflow:global_step/sec: 352.62\n",
      "INFO:tensorflow:loss = 0.43005848, step = 501 (0.284 sec)\n",
      "INFO:tensorflow:global_step/sec: 367.665\n",
      "INFO:tensorflow:loss = 4.2969055, step = 601 (0.271 sec)\n",
      "INFO:tensorflow:global_step/sec: 382.885\n",
      "INFO:tensorflow:loss = 0.84251624, step = 701 (0.267 sec)\n",
      "INFO:tensorflow:global_step/sec: 306.138\n",
      "INFO:tensorflow:loss = 0.26575634, step = 801 (0.319 sec)\n",
      "INFO:tensorflow:global_step/sec: 366.849\n",
      "INFO:tensorflow:loss = 0.948332, step = 901 (0.278 sec)\n",
      "INFO:tensorflow:Saving checkpoints for 1000 into /tmp/tmpe3l9hwvm/model.ckpt.\n",
      "INFO:tensorflow:Loss for final step: 0.10314218.\n",
      "INFO:tensorflow:Calling model_fn.\n",
      "INFO:tensorflow:Done calling model_fn.\n",
      "INFO:tensorflow:Starting evaluation at 2018-04-09-12:13:23\n",
      "INFO:tensorflow:Graph was finalized.\n",
      "INFO:tensorflow:Restoring parameters from /tmp/tmpe3l9hwvm/model.ckpt-1000\n",
      "INFO:tensorflow:Running local_init_op.\n",
      "INFO:tensorflow:Done running local_init_op.\n",
      "INFO:tensorflow:Finished evaluation at 2018-04-09-12:13:24\n",
      "INFO:tensorflow:Saving dict for global step 1000: accuracy = 0.96666664, average_loss = 0.075807184, global_step = 1000, loss = 0.75807184\n",
      "\n",
      "Test set accuracy: 0.967\n",
      "\n"
     ]
    }
   ],
   "source": [
    "%run 'tensorflow_test/tensorflow_test.py'"
   ]
  },
  {
   "cell_type": "code",
   "execution_count": 4,
   "metadata": {},
   "outputs": [
    {
     "data": {
      "text/plain": [
       "[_NumericColumn(key='SepalLength', shape=(1,), default_value=None, dtype=tf.float32, normalizer_fn=None),\n",
       " _NumericColumn(key='SepalWidth', shape=(1,), default_value=None, dtype=tf.float32, normalizer_fn=None),\n",
       " _NumericColumn(key='PetalLength', shape=(1,), default_value=None, dtype=tf.float32, normalizer_fn=None),\n",
       " _NumericColumn(key='PetalWidth', shape=(1,), default_value=None, dtype=tf.float32, normalizer_fn=None)]"
      ]
     },
     "execution_count": 4,
     "metadata": {},
     "output_type": "execute_result"
    }
   ],
   "source": [
    "classifier.feature_cols"
   ]
  },
  {
   "cell_type": "code",
   "execution_count": 5,
   "metadata": {},
   "outputs": [
    {
     "name": "stdout",
     "output_type": "stream",
     "text": [
      "INFO:tensorflow:Calling model_fn.\n",
      "INFO:tensorflow:Done calling model_fn.\n",
      "INFO:tensorflow:Graph was finalized.\n",
      "INFO:tensorflow:Restoring parameters from /tmp/tmpe3l9hwvm/model.ckpt-1000\n",
      "INFO:tensorflow:Running local_init_op.\n",
      "INFO:tensorflow:Done running local_init_op.\n",
      "\n",
      "Prediction is \"Setosa\" (99.8%), expected \"Setosa\"\n",
      "\n",
      "Prediction is \"Versicolor\" (98.8%), expected \"Versicolor\"\n",
      "\n",
      "Prediction is \"Virginica\" (96.1%), expected \"Virginica\"\n",
      "\n",
      "Prediction is \"Versicolor\" (95.6%), expected \"Versicolor\"\n"
     ]
    }
   ],
   "source": [
    "expected = ['Setosa', 'Versicolor', 'Virginica', 'Versicolor']\n",
    "predict_x = {\n",
    "    'SepalLength': [5.1, 5.9, 6.9, 5.8],\n",
    "    'SepalWidth': [3.3, 3.0, 3.1, 2.9],\n",
    "    'PetalLength': [1.7, 4.2, 5.4, 4.3],\n",
    "    'PetalWidth': [0.5, 1.5, 2.1, 1.5],\n",
    "}\n",
    "classifier.model_predict(predict_x, expected)"
   ]
  },
  {
   "cell_type": "code",
   "execution_count": null,
   "metadata": {},
   "outputs": [],
   "source": []
  }
 ],
 "metadata": {
  "kernelspec": {
   "display_name": "Python 3",
   "language": "python",
   "name": "python3"
  },
  "language_info": {
   "codemirror_mode": {
    "name": "ipython",
    "version": 3
   },
   "file_extension": ".py",
   "mimetype": "text/x-python",
   "name": "python",
   "nbconvert_exporter": "python",
   "pygments_lexer": "ipython3",
   "version": "3.6.4"
  },
  "toc": {
   "nav_menu": {},
   "number_sections": true,
   "sideBar": true,
   "skip_h1_title": false,
   "title_cell": "Table of Contents",
   "title_sidebar": "Contents",
   "toc_cell": false,
   "toc_position": {},
   "toc_section_display": true,
   "toc_window_display": false
  }
 },
 "nbformat": 4,
 "nbformat_minor": 2
}
