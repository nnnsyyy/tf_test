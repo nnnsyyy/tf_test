{
 "cells": [
  {
   "cell_type": "markdown",
   "metadata": {},
   "source": [
    "# Module import \n",
    "- Necessary libraries\n",
    "- Tested code\n",
    "- Rename or import function/class"
   ]
  },
  {
   "cell_type": "code",
   "execution_count": 1,
   "metadata": {},
   "outputs": [
    {
     "name": "stderr",
     "output_type": "stream",
     "text": [
      "/home/shiyue/anaconda3/lib/python3.6/site-packages/h5py/__init__.py:36: FutureWarning: Conversion of the second argument of issubdtype from `float` to `np.floating` is deprecated. In future, it will be treated as `np.float64 == np.dtype(float).type`.\n",
      "  from ._conv import register_converters as _register_converters\n"
     ]
    }
   ],
   "source": [
    "import pandas as pd\n",
    "import numpy as np\n",
    "import tensorflow_test as tf_test\n",
    "from tensorflow_test import utils as utils\n",
    "# import tensorflow_test"
   ]
  },
  {
   "cell_type": "code",
   "execution_count": 2,
   "metadata": {},
   "outputs": [
    {
     "data": {
      "text/plain": [
       "384"
      ]
     },
     "execution_count": 2,
     "metadata": {},
     "output_type": "execute_result"
    }
   ],
   "source": [
    "base_func = utils.bs.Base()\n",
    "base_func.length"
   ]
  },
  {
   "cell_type": "code",
   "execution_count": 3,
   "metadata": {
    "scrolled": true
   },
   "outputs": [
    {
     "name": "stdout",
     "output_type": "stream",
     "text": [
      "INFO:tensorflow:Using default config.\n",
      "WARNING:tensorflow:Using temporary folder as model directory: /tmp/tmpwkl5eiy3\n",
      "INFO:tensorflow:Using config: {'_model_dir': '/tmp/tmpwkl5eiy3', '_tf_random_seed': None, '_save_summary_steps': 100, '_save_checkpoints_steps': None, '_save_checkpoints_secs': 600, '_session_config': None, '_keep_checkpoint_max': 5, '_keep_checkpoint_every_n_hours': 10000, '_log_step_count_steps': 100, '_service': None, '_cluster_spec': <tensorflow.python.training.server_lib.ClusterSpec object at 0x7fbf8d7c25c0>, '_task_type': 'worker', '_task_id': 0, '_global_id_in_cluster': 0, '_master': '', '_evaluation_master': '', '_is_chief': True, '_num_ps_replicas': 0, '_num_worker_replicas': 1}\n",
      "INFO:tensorflow:Calling model_fn.\n",
      "INFO:tensorflow:Done calling model_fn.\n",
      "INFO:tensorflow:Create CheckpointSaverHook.\n",
      "INFO:tensorflow:Graph was finalized.\n",
      "INFO:tensorflow:Running local_init_op.\n",
      "INFO:tensorflow:Done running local_init_op.\n",
      "INFO:tensorflow:Saving checkpoints for 1 into /tmp/tmpwkl5eiy3/model.ckpt.\n",
      "INFO:tensorflow:loss = 30.15041, step = 1\n",
      "INFO:tensorflow:global_step/sec: 233.141\n",
      "INFO:tensorflow:loss = 2.4619744, step = 101 (0.433 sec)\n",
      "INFO:tensorflow:global_step/sec: 379.613\n",
      "INFO:tensorflow:loss = 0.725547, step = 201 (0.276 sec)\n",
      "INFO:tensorflow:global_step/sec: 407.25\n",
      "INFO:tensorflow:loss = 0.76691836, step = 301 (0.243 sec)\n",
      "INFO:tensorflow:global_step/sec: 373.453\n",
      "INFO:tensorflow:loss = 1.1594619, step = 401 (0.263 sec)\n",
      "INFO:tensorflow:global_step/sec: 351.794\n",
      "INFO:tensorflow:loss = 0.14154308, step = 501 (0.282 sec)\n",
      "INFO:tensorflow:global_step/sec: 399.177\n",
      "INFO:tensorflow:loss = 0.17961621, step = 601 (0.252 sec)\n",
      "INFO:tensorflow:global_step/sec: 372.415\n",
      "INFO:tensorflow:loss = 1.0714815, step = 701 (0.267 sec)\n",
      "INFO:tensorflow:global_step/sec: 334.771\n",
      "INFO:tensorflow:loss = 0.2229579, step = 801 (0.302 sec)\n",
      "INFO:tensorflow:global_step/sec: 359.58\n",
      "INFO:tensorflow:loss = 0.1618906, step = 901 (0.273 sec)\n",
      "INFO:tensorflow:Saving checkpoints for 1000 into /tmp/tmpwkl5eiy3/model.ckpt.\n",
      "INFO:tensorflow:Loss for final step: 1.242595.\n",
      "INFO:tensorflow:Calling model_fn.\n",
      "INFO:tensorflow:Done calling model_fn.\n",
      "INFO:tensorflow:Starting evaluation at 2018-04-09-08:47:03\n",
      "INFO:tensorflow:Graph was finalized.\n",
      "INFO:tensorflow:Restoring parameters from /tmp/tmpwkl5eiy3/model.ckpt-1000\n",
      "INFO:tensorflow:Running local_init_op.\n",
      "INFO:tensorflow:Done running local_init_op.\n",
      "INFO:tensorflow:Finished evaluation at 2018-04-09-08:47:04\n",
      "INFO:tensorflow:Saving dict for global step 1000: accuracy = 0.96666664, average_loss = 0.08048431, global_step = 1000, loss = 0.8048431\n",
      "\n",
      "Test set accuracy: 0.967\n",
      "\n"
     ]
    }
   ],
   "source": [
    "%run 'tensorflow_test/tensorflow_test.py'"
   ]
  },
  {
   "cell_type": "code",
   "execution_count": null,
   "metadata": {},
   "outputs": [],
   "source": []
  },
  {
   "cell_type": "code",
   "execution_count": null,
   "metadata": {},
   "outputs": [],
   "source": []
  },
  {
   "cell_type": "code",
   "execution_count": null,
   "metadata": {},
   "outputs": [],
   "source": []
  }
 ],
 "metadata": {
  "kernelspec": {
   "display_name": "Python 3",
   "language": "python",
   "name": "python3"
  },
  "language_info": {
   "codemirror_mode": {
    "name": "ipython",
    "version": 3
   },
   "file_extension": ".py",
   "mimetype": "text/x-python",
   "name": "python",
   "nbconvert_exporter": "python",
   "pygments_lexer": "ipython3",
   "version": "3.6.4"
  },
  "toc": {
   "nav_menu": {},
   "number_sections": true,
   "sideBar": true,
   "skip_h1_title": false,
   "title_cell": "Table of Contents",
   "title_sidebar": "Contents",
   "toc_cell": false,
   "toc_position": {},
   "toc_section_display": true,
   "toc_window_display": false
  }
 },
 "nbformat": 4,
 "nbformat_minor": 2
}
